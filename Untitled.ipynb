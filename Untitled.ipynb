{
 "cells": [
  {
   "cell_type": "code",
   "execution_count": 1,
   "metadata": {
    "collapsed": true
   },
   "outputs": [],
   "source": [
    "from os import listdir\n",
    "from os.path import isfile, join\n",
    "import re"
   ]
  },
  {
   "cell_type": "code",
   "execution_count": 2,
   "metadata": {
    "collapsed": true
   },
   "outputs": [],
   "source": [
    "input_path = 'D:/TwitterDataset/New folder/NewCorpus/'\n",
    "output_path = 'D:/TwitterDataset/New folder/Edited/'\n",
    "path2 = 'D:/TwitterDataset/New folder/Splitted/'"
   ]
  },
  {
   "cell_type": "code",
   "execution_count": 3,
   "metadata": {},
   "outputs": [
    {
     "name": "stdout",
     "output_type": "stream",
     "text": [
      "DONE!!!\n"
     ]
    }
   ],
   "source": [
    "input_path = 'D:/TwitterDataset/New folder/NewCorpus/'\n",
    "output_path = 'D:/TwitterDataset/New folder/Edited/'\n",
    "\n",
    "number_of_docs = 0\n",
    "temp_str = '\"object\":{\"id\":\"tag:search.twitter.com'\n",
    "with open(output_path+'JointTweets.txt', 'w+', encoding='utf-8') as outfile:\n",
    "    for file_name in listdir(input_path):\n",
    "        number_of_docs += 1\n",
    "        try:\n",
    "            with open(input_path+file_name, 'r', encoding='utf-8') as infile:\n",
    "                #print('Processing Document Number :\\t', number_of_docs)\n",
    "                #with open(output_path+'JointTweets.txt', 'w+', encoding='utf-8') as outfile:\n",
    "                for line in infile:\n",
    "                    new_line = re.sub(r',\\\"twitter_filter_level\\\"\\:\\\"low\"\\}\\{', ',\"twitter_filter_level\":\"low\"}'+'\\n'+'{',line)\n",
    "                    #new_line = line.replace(temp_str, '\\n{\"id\":\"tag:search.twitter.com')\n",
    "                    outfile.write(new_line)\n",
    "        except:\n",
    "            print('Encoding Problem, Switching to LATIN1')\n",
    "            with open(input_path+file_name, 'r', encoding='latin1') as infile:\n",
    "                print('Processing Document Number :\\t', number_of_docs)\n",
    "                #with open(output_path+'JointTweets.txt', 'w+', encoding='utf-8') as outfile:\n",
    "                for line in infile:\n",
    "                    new_line = re.sub(r',\\\"twitter_filter_level\\\"\\:\\\"low\"\\}\\{', ',\"twitter_filter_level\":\"low\"}'+'\\n'+'{',line)\n",
    "                    #new_line = line.replace(temp_str, '\\n{\"id\":\"tag:search.twitter.com')\n",
    "                    outfile.write(new_line)\n",
    "            \n",
    "print('DONE!!!')"
   ]
  },
  {
   "cell_type": "code",
   "execution_count": 16,
   "metadata": {
    "collapsed": true
   },
   "outputs": [],
   "source": [
    "with open(output_path+'JointTweets.txt', 'r', encoding='utf-8') as f2:\n",
    "    for line in f2:\n",
    "        s = re.search(r'[^\\}]\\n', line)\n",
    "        if s is not None:\n",
    "            print(s)"
   ]
  },
  {
   "cell_type": "code",
   "execution_count": null,
   "metadata": {
    "collapsed": true
   },
   "outputs": [],
   "source": [
    "number_of_docs = 0\n",
    "temp_str = '\"object\":{\"id\":\"tag:search.twitter.com'\n",
    "with open(output_path+'JointTweets.txt', 'w+', encoding='utf-8') as outfile:\n",
    "    for file_name in listdir(input_path):\n",
    "        with open(path2+file_name, 'w+', encoding='utf-8') as splitFile:\n",
    "            number_of_docs += 1\n",
    "            try:\n",
    "                with open(input_path+file_name, 'r', encoding='utf-8') as infile:\n",
    "                    #print('Processing Document Number :\\t', number_of_docs)\n",
    "                    #with open(output_path+'JointTweets.txt', 'w+', encoding='utf-8') as outfile:\n",
    "                    for line in infile:\n",
    "                        new_line = re.sub(r',\\\"twitter_filter_level\\\"\\:\\\"low\"\\}\\{', ',\"twitter_filter_level\":\"low\"}'+'\\n'+'{',line)\n",
    "                        #new_line = line.replace(temp_str, '\\n{\"id\":\"tag:search.twitter.com')\n",
    "                        splitFile.write(new_line)\n",
    "                        #outfile.write(new_line)\n",
    "            except:\n",
    "                print('Encoding Problem, Switching to LATIN1')\n",
    "                with open(input_path+file_name, 'r', encoding='latin1') as infile:\n",
    "                    print('Processing Document Number :\\t', number_of_docs)\n",
    "                    #with open(output_path+'JointTweets.txt', 'w+', encoding='utf-8') as outfile:\n",
    "                    for line in infile:\n",
    "                        new_line = re.sub(r',\\\"twitter_filter_level\\\"\\:\\\"low\"\\}\\{', ',\"twitter_filter_level\":\"low\"}'+'\\n'+'{',line)\n",
    "                        #new_line = line.replace(temp_str, '\\n{\"id\":\"tag:search.twitter.com')\n",
    "                        splitFile.write(new_line)\n",
    "                        #outfile.write(new_line)\n",
    "            \n",
    "print('DONE!!!')"
   ]
  },
  {
   "cell_type": "code",
   "execution_count": 20,
   "metadata": {},
   "outputs": [
    {
     "ename": "JSONDecodeError",
     "evalue": "Extra data: line 1 column 5963 (char 5962)",
     "output_type": "error",
     "traceback": [
      "\u001b[1;31m---------------------------------------------------------------------------\u001b[0m",
      "\u001b[1;31mJSONDecodeError\u001b[0m                           Traceback (most recent call last)",
      "\u001b[1;32m<ipython-input-20-36a8d628cf92>\u001b[0m in \u001b[0;36m<module>\u001b[1;34m()\u001b[0m\n\u001b[0;32m      5\u001b[0m \u001b[1;32mwith\u001b[0m \u001b[0mopen\u001b[0m\u001b[1;33m(\u001b[0m\u001b[0moutput_path\u001b[0m\u001b[1;33m+\u001b[0m\u001b[1;34m'JointTweets.txt'\u001b[0m\u001b[1;33m,\u001b[0m \u001b[1;34m'r'\u001b[0m \u001b[1;33m,\u001b[0m \u001b[0mencoding\u001b[0m\u001b[1;33m=\u001b[0m\u001b[1;34m'utf-8'\u001b[0m\u001b[1;33m)\u001b[0m \u001b[1;32mas\u001b[0m \u001b[0mjfile\u001b[0m\u001b[1;33m:\u001b[0m\u001b[1;33m\u001b[0m\u001b[0m\n\u001b[0;32m      6\u001b[0m           \u001b[1;32mfor\u001b[0m \u001b[0mline\u001b[0m \u001b[1;32min\u001b[0m \u001b[0mjfile\u001b[0m\u001b[1;33m:\u001b[0m\u001b[1;33m\u001b[0m\u001b[0m\n\u001b[1;32m----> 7\u001b[1;33m             \u001b[0mline_object\u001b[0m \u001b[1;33m=\u001b[0m \u001b[0mjson\u001b[0m\u001b[1;33m.\u001b[0m\u001b[0mloads\u001b[0m\u001b[1;33m(\u001b[0m\u001b[0mline\u001b[0m\u001b[1;33m)\u001b[0m\u001b[1;33m\u001b[0m\u001b[0m\n\u001b[0m\u001b[0;32m      8\u001b[0m             \u001b[1;32mtry\u001b[0m\u001b[1;33m:\u001b[0m\u001b[1;33m\u001b[0m\u001b[0m\n\u001b[0;32m      9\u001b[0m                 \u001b[0mactor_id_string\u001b[0m \u001b[1;33m=\u001b[0m \u001b[0mline_object\u001b[0m\u001b[1;33m[\u001b[0m\u001b[1;34m\"actor\"\u001b[0m\u001b[1;33m]\u001b[0m\u001b[1;33m[\u001b[0m\u001b[1;34m\"id\"\u001b[0m\u001b[1;33m]\u001b[0m\u001b[1;33m\u001b[0m\u001b[0m\n",
      "\u001b[1;32mC:\\Users\\doula\\Anaconda3\\lib\\json\\__init__.py\u001b[0m in \u001b[0;36mloads\u001b[1;34m(s, encoding, cls, object_hook, parse_float, parse_int, parse_constant, object_pairs_hook, **kw)\u001b[0m\n\u001b[0;32m    352\u001b[0m             \u001b[0mparse_int\u001b[0m \u001b[1;32mis\u001b[0m \u001b[1;32mNone\u001b[0m \u001b[1;32mand\u001b[0m \u001b[0mparse_float\u001b[0m \u001b[1;32mis\u001b[0m \u001b[1;32mNone\u001b[0m \u001b[1;32mand\u001b[0m\u001b[1;33m\u001b[0m\u001b[0m\n\u001b[0;32m    353\u001b[0m             parse_constant is None and object_pairs_hook is None and not kw):\n\u001b[1;32m--> 354\u001b[1;33m         \u001b[1;32mreturn\u001b[0m \u001b[0m_default_decoder\u001b[0m\u001b[1;33m.\u001b[0m\u001b[0mdecode\u001b[0m\u001b[1;33m(\u001b[0m\u001b[0ms\u001b[0m\u001b[1;33m)\u001b[0m\u001b[1;33m\u001b[0m\u001b[0m\n\u001b[0m\u001b[0;32m    355\u001b[0m     \u001b[1;32mif\u001b[0m \u001b[0mcls\u001b[0m \u001b[1;32mis\u001b[0m \u001b[1;32mNone\u001b[0m\u001b[1;33m:\u001b[0m\u001b[1;33m\u001b[0m\u001b[0m\n\u001b[0;32m    356\u001b[0m         \u001b[0mcls\u001b[0m \u001b[1;33m=\u001b[0m \u001b[0mJSONDecoder\u001b[0m\u001b[1;33m\u001b[0m\u001b[0m\n",
      "\u001b[1;32mC:\\Users\\doula\\Anaconda3\\lib\\json\\decoder.py\u001b[0m in \u001b[0;36mdecode\u001b[1;34m(self, s, _w)\u001b[0m\n\u001b[0;32m    340\u001b[0m         \u001b[0mend\u001b[0m \u001b[1;33m=\u001b[0m \u001b[0m_w\u001b[0m\u001b[1;33m(\u001b[0m\u001b[0ms\u001b[0m\u001b[1;33m,\u001b[0m \u001b[0mend\u001b[0m\u001b[1;33m)\u001b[0m\u001b[1;33m.\u001b[0m\u001b[0mend\u001b[0m\u001b[1;33m(\u001b[0m\u001b[1;33m)\u001b[0m\u001b[1;33m\u001b[0m\u001b[0m\n\u001b[0;32m    341\u001b[0m         \u001b[1;32mif\u001b[0m \u001b[0mend\u001b[0m \u001b[1;33m!=\u001b[0m \u001b[0mlen\u001b[0m\u001b[1;33m(\u001b[0m\u001b[0ms\u001b[0m\u001b[1;33m)\u001b[0m\u001b[1;33m:\u001b[0m\u001b[1;33m\u001b[0m\u001b[0m\n\u001b[1;32m--> 342\u001b[1;33m             \u001b[1;32mraise\u001b[0m \u001b[0mJSONDecodeError\u001b[0m\u001b[1;33m(\u001b[0m\u001b[1;34m\"Extra data\"\u001b[0m\u001b[1;33m,\u001b[0m \u001b[0ms\u001b[0m\u001b[1;33m,\u001b[0m \u001b[0mend\u001b[0m\u001b[1;33m)\u001b[0m\u001b[1;33m\u001b[0m\u001b[0m\n\u001b[0m\u001b[0;32m    343\u001b[0m         \u001b[1;32mreturn\u001b[0m \u001b[0mobj\u001b[0m\u001b[1;33m\u001b[0m\u001b[0m\n\u001b[0;32m    344\u001b[0m \u001b[1;33m\u001b[0m\u001b[0m\n",
      "\u001b[1;31mJSONDecodeError\u001b[0m: Extra data: line 1 column 5963 (char 5962)"
     ]
    }
   ],
   "source": [
    "import json\n",
    "import csv\n",
    "import io\n",
    "\n",
    "with open(output_path+'JointTweets.txt', 'r' , encoding='utf-8') as jfile:\n",
    "          for line in jfile:\n",
    "            line_object = json.loads(line)\n",
    "            try:\n",
    "                actor_id_string = line_object[\"actor\"][\"id\"]\n",
    "                actor_id = int( actor_id_string.split(\":\")[2] )\n",
    "                language_code = line_object[\"twitter_lang\"]\n",
    "            except KeyError:\n",
    "                actor_id = -1\n",
    "                language_code = \"Null\""
   ]
  },
  {
   "cell_type": "code",
   "execution_count": null,
   "metadata": {
    "collapsed": true
   },
   "outputs": [],
   "source": [
    "with open('file.txt', 'r') as fin:\n",
    "    data = fin.read().splitlines(True)\n",
    "with open('file.txt', 'w') as fout:\n",
    "    fout.writelines(data[1:])"
   ]
  },
  {
   "cell_type": "code",
   "execution_count": null,
   "metadata": {
    "collapsed": true
   },
   "outputs": [],
   "source": [
    "import json\n",
    "import csv\n",
    "import io\n",
    "\n",
    "#with open(output_path+'JointTweets.txt', 'r', encoding='utf-8') as edited_file:\n",
    "data_json = io.open(output_path+'JointTweets.txt', mode='r', encoding='latin1').read() #reads in the JSON file\n",
    "data_python = json.loads(data_json)\n",
    "\n",
    "csv_out = io.open('tweets_out_utf8.csv', mode='w', encoding='utf-8') #opens csv file"
   ]
  },
  {
   "cell_type": "code",
   "execution_count": null,
   "metadata": {
    "collapsed": true
   },
   "outputs": [],
   "source": [
    "fields = u'created_at,text,screen_name,followers,friends,rt,fav' #field names\n",
    "csv_out.write(fields)\n",
    "csv_out.write(u'\\n')"
   ]
  },
  {
   "cell_type": "code",
   "execution_count": null,
   "metadata": {
    "collapsed": true
   },
   "outputs": [],
   "source": [
    "for line in data_python:\n",
    "    print(type(line))"
   ]
  },
  {
   "cell_type": "code",
   "execution_count": null,
   "metadata": {
    "collapsed": true
   },
   "outputs": [],
   "source": [
    "for line in data_python:\n",
    "    print(line)\n",
    "    #writes a row and gets the fields from the json object\n",
    "    #screen_name and followers/friends are found on the second level hence two get methods\n",
    "    row = [line.get('created_at'),\n",
    "           '\"' + line.get('text').replace('\"','\"\"') + '\"', #creates double quotes\n",
    "           line.get('user').get('screen_name'),\n",
    "           unicode(line.get('user').get('followers_count')),\n",
    "           unicode(line.get('user').get('friends_count')),\n",
    "           unicode(line.get('retweet_count')),\n",
    "           unicode(line.get('favorite_count'))]\n",
    " \n",
    "    row_joined = u','.join(row)\n",
    "    csv_out.write(row_joined)\n",
    "    csv_out.write(u'\\n')\n",
    " \n",
    " \n",
    "csv_out.close()"
   ]
  },
  {
   "cell_type": "code",
   "execution_count": null,
   "metadata": {
    "collapsed": true
   },
   "outputs": [],
   "source": [
    "import json\n",
    "import pandas as pd\n",
    "import matplotlib.pyplot as plt\n",
    "tweets_data_path= 'temptweet.txt'"
   ]
  },
  {
   "cell_type": "code",
   "execution_count": null,
   "metadata": {
    "collapsed": true
   },
   "outputs": [],
   "source": [
    "with open('example3.txt', 'r') as f:\n",
    "    line = f.readline() # read only the first tweet/line\n",
    "    tweet = json.loads(line) # load it as Python dict\n",
    "    print(json.dumps(tweet, indent=4)) # pretty-print"
   ]
  },
  {
   "cell_type": "code",
   "execution_count": null,
   "metadata": {
    "collapsed": true
   },
   "outputs": [],
   "source": [
    "tweets = pd.DataFrame(columns=['text','lang','country'])\n",
    "for t in tweets:\n",
    "    print(t)"
   ]
  },
  {
   "cell_type": "code",
   "execution_count": null,
   "metadata": {
    "collapsed": true,
    "scrolled": true
   },
   "outputs": [],
   "source": [
    "tweet = map(lambda tweet: tweet['lang'], tweets_data)\n",
    "print(str(tweet))"
   ]
  },
  {
   "cell_type": "code",
   "execution_count": null,
   "metadata": {
    "collapsed": true
   },
   "outputs": [],
   "source": []
  }
 ],
 "metadata": {
  "kernelspec": {
   "display_name": "Python 3",
   "language": "python",
   "name": "python3"
  },
  "language_info": {
   "codemirror_mode": {
    "name": "ipython",
    "version": 3
   },
   "file_extension": ".py",
   "mimetype": "text/x-python",
   "name": "python",
   "nbconvert_exporter": "python",
   "pygments_lexer": "ipython3",
   "version": "3.6.1"
  }
 },
 "nbformat": 4,
 "nbformat_minor": 2
}
